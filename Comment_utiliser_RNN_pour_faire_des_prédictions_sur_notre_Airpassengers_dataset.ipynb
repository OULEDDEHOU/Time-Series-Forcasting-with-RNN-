{
  "nbformat": 4,
  "nbformat_minor": 0,
  "metadata": {
    "colab": {
      "provenance": [],
      "authorship_tag": "ABX9TyNGbdMiWA9tBKi3ee+BCwQN",
      "include_colab_link": true
    },
    "kernelspec": {
      "name": "python3",
      "display_name": "Python 3"
    },
    "language_info": {
      "name": "python"
    },
    "accelerator": "GPU",
    "gpuClass": "standard"
  },
  "cells": [
    {
      "cell_type": "markdown",
      "metadata": {
        "id": "view-in-github",
        "colab_type": "text"
      },
      "source": [
        "<a href=\"https://colab.research.google.com/github/OULEDDEHOU/Time-Series-Forcasting-with-RNN-/blob/master/Comment_utiliser_RNN_pour_faire_des_pr%C3%A9dictions_sur_notre_Airpassengers_dataset.ipynb\" target=\"_parent\"><img src=\"https://colab.research.google.com/assets/colab-badge.svg\" alt=\"Open In Colab\"/></a>"
      ]
    },
    {
      "cell_type": "code",
      "execution_count": null,
      "metadata": {
        "id": "-wMNKvWqQil7"
      },
      "outputs": [],
      "source": [
        "import numpy as np\n",
        "import matplotlib.pyplot as plt\n",
        "import pandas as pd\n",
        "import math\n",
        "from keras.models import Sequential\n",
        "from keras.layers import Dense\n",
        "from keras.layers import SimpleRNN\n",
        "from sklearn.preprocessing import MinMaxScaler\n",
        "from sklearn.metrics import mean_squared_error"
      ]
    },
    {
      "cell_type": "code",
      "source": [
        "from  google.colab import files\n",
        "import io"
      ],
      "metadata": {
        "id": "p9kmRsohQl2T"
      },
      "execution_count": null,
      "outputs": []
    },
    {
      "cell_type": "code",
      "source": [
        "uploaded = files.upload()"
      ],
      "metadata": {
        "colab": {
          "base_uri": "https://localhost:8080/",
          "height": 73
        },
        "id": "pijxoAOeQzSe",
        "outputId": "d53ab867-fe92-4625-ac62-47b428359bf6"
      },
      "execution_count": null,
      "outputs": [
        {
          "output_type": "display_data",
          "data": {
            "text/plain": [
              "<IPython.core.display.HTML object>"
            ],
            "text/html": [
              "\n",
              "     <input type=\"file\" id=\"files-94911ee3-84d0-4b42-8289-13591a6435b4\" name=\"files[]\" multiple disabled\n",
              "        style=\"border:none\" />\n",
              "     <output id=\"result-94911ee3-84d0-4b42-8289-13591a6435b4\">\n",
              "      Upload widget is only available when the cell has been executed in the\n",
              "      current browser session. Please rerun this cell to enable.\n",
              "      </output>\n",
              "      <script>// Copyright 2017 Google LLC\n",
              "//\n",
              "// Licensed under the Apache License, Version 2.0 (the \"License\");\n",
              "// you may not use this file except in compliance with the License.\n",
              "// You may obtain a copy of the License at\n",
              "//\n",
              "//      http://www.apache.org/licenses/LICENSE-2.0\n",
              "//\n",
              "// Unless required by applicable law or agreed to in writing, software\n",
              "// distributed under the License is distributed on an \"AS IS\" BASIS,\n",
              "// WITHOUT WARRANTIES OR CONDITIONS OF ANY KIND, either express or implied.\n",
              "// See the License for the specific language governing permissions and\n",
              "// limitations under the License.\n",
              "\n",
              "/**\n",
              " * @fileoverview Helpers for google.colab Python module.\n",
              " */\n",
              "(function(scope) {\n",
              "function span(text, styleAttributes = {}) {\n",
              "  const element = document.createElement('span');\n",
              "  element.textContent = text;\n",
              "  for (const key of Object.keys(styleAttributes)) {\n",
              "    element.style[key] = styleAttributes[key];\n",
              "  }\n",
              "  return element;\n",
              "}\n",
              "\n",
              "// Max number of bytes which will be uploaded at a time.\n",
              "const MAX_PAYLOAD_SIZE = 100 * 1024;\n",
              "\n",
              "function _uploadFiles(inputId, outputId) {\n",
              "  const steps = uploadFilesStep(inputId, outputId);\n",
              "  const outputElement = document.getElementById(outputId);\n",
              "  // Cache steps on the outputElement to make it available for the next call\n",
              "  // to uploadFilesContinue from Python.\n",
              "  outputElement.steps = steps;\n",
              "\n",
              "  return _uploadFilesContinue(outputId);\n",
              "}\n",
              "\n",
              "// This is roughly an async generator (not supported in the browser yet),\n",
              "// where there are multiple asynchronous steps and the Python side is going\n",
              "// to poll for completion of each step.\n",
              "// This uses a Promise to block the python side on completion of each step,\n",
              "// then passes the result of the previous step as the input to the next step.\n",
              "function _uploadFilesContinue(outputId) {\n",
              "  const outputElement = document.getElementById(outputId);\n",
              "  const steps = outputElement.steps;\n",
              "\n",
              "  const next = steps.next(outputElement.lastPromiseValue);\n",
              "  return Promise.resolve(next.value.promise).then((value) => {\n",
              "    // Cache the last promise value to make it available to the next\n",
              "    // step of the generator.\n",
              "    outputElement.lastPromiseValue = value;\n",
              "    return next.value.response;\n",
              "  });\n",
              "}\n",
              "\n",
              "/**\n",
              " * Generator function which is called between each async step of the upload\n",
              " * process.\n",
              " * @param {string} inputId Element ID of the input file picker element.\n",
              " * @param {string} outputId Element ID of the output display.\n",
              " * @return {!Iterable<!Object>} Iterable of next steps.\n",
              " */\n",
              "function* uploadFilesStep(inputId, outputId) {\n",
              "  const inputElement = document.getElementById(inputId);\n",
              "  inputElement.disabled = false;\n",
              "\n",
              "  const outputElement = document.getElementById(outputId);\n",
              "  outputElement.innerHTML = '';\n",
              "\n",
              "  const pickedPromise = new Promise((resolve) => {\n",
              "    inputElement.addEventListener('change', (e) => {\n",
              "      resolve(e.target.files);\n",
              "    });\n",
              "  });\n",
              "\n",
              "  const cancel = document.createElement('button');\n",
              "  inputElement.parentElement.appendChild(cancel);\n",
              "  cancel.textContent = 'Cancel upload';\n",
              "  const cancelPromise = new Promise((resolve) => {\n",
              "    cancel.onclick = () => {\n",
              "      resolve(null);\n",
              "    };\n",
              "  });\n",
              "\n",
              "  // Wait for the user to pick the files.\n",
              "  const files = yield {\n",
              "    promise: Promise.race([pickedPromise, cancelPromise]),\n",
              "    response: {\n",
              "      action: 'starting',\n",
              "    }\n",
              "  };\n",
              "\n",
              "  cancel.remove();\n",
              "\n",
              "  // Disable the input element since further picks are not allowed.\n",
              "  inputElement.disabled = true;\n",
              "\n",
              "  if (!files) {\n",
              "    return {\n",
              "      response: {\n",
              "        action: 'complete',\n",
              "      }\n",
              "    };\n",
              "  }\n",
              "\n",
              "  for (const file of files) {\n",
              "    const li = document.createElement('li');\n",
              "    li.append(span(file.name, {fontWeight: 'bold'}));\n",
              "    li.append(span(\n",
              "        `(${file.type || 'n/a'}) - ${file.size} bytes, ` +\n",
              "        `last modified: ${\n",
              "            file.lastModifiedDate ? file.lastModifiedDate.toLocaleDateString() :\n",
              "                                    'n/a'} - `));\n",
              "    const percent = span('0% done');\n",
              "    li.appendChild(percent);\n",
              "\n",
              "    outputElement.appendChild(li);\n",
              "\n",
              "    const fileDataPromise = new Promise((resolve) => {\n",
              "      const reader = new FileReader();\n",
              "      reader.onload = (e) => {\n",
              "        resolve(e.target.result);\n",
              "      };\n",
              "      reader.readAsArrayBuffer(file);\n",
              "    });\n",
              "    // Wait for the data to be ready.\n",
              "    let fileData = yield {\n",
              "      promise: fileDataPromise,\n",
              "      response: {\n",
              "        action: 'continue',\n",
              "      }\n",
              "    };\n",
              "\n",
              "    // Use a chunked sending to avoid message size limits. See b/62115660.\n",
              "    let position = 0;\n",
              "    do {\n",
              "      const length = Math.min(fileData.byteLength - position, MAX_PAYLOAD_SIZE);\n",
              "      const chunk = new Uint8Array(fileData, position, length);\n",
              "      position += length;\n",
              "\n",
              "      const base64 = btoa(String.fromCharCode.apply(null, chunk));\n",
              "      yield {\n",
              "        response: {\n",
              "          action: 'append',\n",
              "          file: file.name,\n",
              "          data: base64,\n",
              "        },\n",
              "      };\n",
              "\n",
              "      let percentDone = fileData.byteLength === 0 ?\n",
              "          100 :\n",
              "          Math.round((position / fileData.byteLength) * 100);\n",
              "      percent.textContent = `${percentDone}% done`;\n",
              "\n",
              "    } while (position < fileData.byteLength);\n",
              "  }\n",
              "\n",
              "  // All done.\n",
              "  yield {\n",
              "    response: {\n",
              "      action: 'complete',\n",
              "    }\n",
              "  };\n",
              "}\n",
              "\n",
              "scope.google = scope.google || {};\n",
              "scope.google.colab = scope.google.colab || {};\n",
              "scope.google.colab._files = {\n",
              "  _uploadFiles,\n",
              "  _uploadFilesContinue,\n",
              "};\n",
              "})(self);\n",
              "</script> "
            ]
          },
          "metadata": {}
        },
        {
          "output_type": "stream",
          "name": "stdout",
          "text": [
            "Saving AirPassengers.csv to AirPassengers.csv\n"
          ]
        }
      ]
    },
    {
      "cell_type": "code",
      "source": [
        "data = pd.read_csv(io.BytesIO(uploaded['AirPassengers.csv']),usecols=[1]) "
      ],
      "metadata": {
        "id": "yNIFupOmQ1jE"
      },
      "execution_count": null,
      "outputs": []
    },
    {
      "cell_type": "code",
      "source": [
        "data.head(10)"
      ],
      "metadata": {
        "colab": {
          "base_uri": "https://localhost:8080/",
          "height": 363
        },
        "id": "RLbOiMDjRBhA",
        "outputId": "77b1f4af-8382-4651-fdfe-ad264688f538"
      },
      "execution_count": null,
      "outputs": [
        {
          "output_type": "execute_result",
          "data": {
            "text/plain": [
              "   #Passengers\n",
              "0          112\n",
              "1          118\n",
              "2          132\n",
              "3          129\n",
              "4          121\n",
              "5          135\n",
              "6          148\n",
              "7          148\n",
              "8          136\n",
              "9          119"
            ],
            "text/html": [
              "\n",
              "  <div id=\"df-65f82dab-c115-436d-83ee-830f8232b52a\">\n",
              "    <div class=\"colab-df-container\">\n",
              "      <div>\n",
              "<style scoped>\n",
              "    .dataframe tbody tr th:only-of-type {\n",
              "        vertical-align: middle;\n",
              "    }\n",
              "\n",
              "    .dataframe tbody tr th {\n",
              "        vertical-align: top;\n",
              "    }\n",
              "\n",
              "    .dataframe thead th {\n",
              "        text-align: right;\n",
              "    }\n",
              "</style>\n",
              "<table border=\"1\" class=\"dataframe\">\n",
              "  <thead>\n",
              "    <tr style=\"text-align: right;\">\n",
              "      <th></th>\n",
              "      <th>#Passengers</th>\n",
              "    </tr>\n",
              "  </thead>\n",
              "  <tbody>\n",
              "    <tr>\n",
              "      <th>0</th>\n",
              "      <td>112</td>\n",
              "    </tr>\n",
              "    <tr>\n",
              "      <th>1</th>\n",
              "      <td>118</td>\n",
              "    </tr>\n",
              "    <tr>\n",
              "      <th>2</th>\n",
              "      <td>132</td>\n",
              "    </tr>\n",
              "    <tr>\n",
              "      <th>3</th>\n",
              "      <td>129</td>\n",
              "    </tr>\n",
              "    <tr>\n",
              "      <th>4</th>\n",
              "      <td>121</td>\n",
              "    </tr>\n",
              "    <tr>\n",
              "      <th>5</th>\n",
              "      <td>135</td>\n",
              "    </tr>\n",
              "    <tr>\n",
              "      <th>6</th>\n",
              "      <td>148</td>\n",
              "    </tr>\n",
              "    <tr>\n",
              "      <th>7</th>\n",
              "      <td>148</td>\n",
              "    </tr>\n",
              "    <tr>\n",
              "      <th>8</th>\n",
              "      <td>136</td>\n",
              "    </tr>\n",
              "    <tr>\n",
              "      <th>9</th>\n",
              "      <td>119</td>\n",
              "    </tr>\n",
              "  </tbody>\n",
              "</table>\n",
              "</div>\n",
              "      <button class=\"colab-df-convert\" onclick=\"convertToInteractive('df-65f82dab-c115-436d-83ee-830f8232b52a')\"\n",
              "              title=\"Convert this dataframe to an interactive table.\"\n",
              "              style=\"display:none;\">\n",
              "        \n",
              "  <svg xmlns=\"http://www.w3.org/2000/svg\" height=\"24px\"viewBox=\"0 0 24 24\"\n",
              "       width=\"24px\">\n",
              "    <path d=\"M0 0h24v24H0V0z\" fill=\"none\"/>\n",
              "    <path d=\"M18.56 5.44l.94 2.06.94-2.06 2.06-.94-2.06-.94-.94-2.06-.94 2.06-2.06.94zm-11 1L8.5 8.5l.94-2.06 2.06-.94-2.06-.94L8.5 2.5l-.94 2.06-2.06.94zm10 10l.94 2.06.94-2.06 2.06-.94-2.06-.94-.94-2.06-.94 2.06-2.06.94z\"/><path d=\"M17.41 7.96l-1.37-1.37c-.4-.4-.92-.59-1.43-.59-.52 0-1.04.2-1.43.59L10.3 9.45l-7.72 7.72c-.78.78-.78 2.05 0 2.83L4 21.41c.39.39.9.59 1.41.59.51 0 1.02-.2 1.41-.59l7.78-7.78 2.81-2.81c.8-.78.8-2.07 0-2.86zM5.41 20L4 18.59l7.72-7.72 1.47 1.35L5.41 20z\"/>\n",
              "  </svg>\n",
              "      </button>\n",
              "      \n",
              "  <style>\n",
              "    .colab-df-container {\n",
              "      display:flex;\n",
              "      flex-wrap:wrap;\n",
              "      gap: 12px;\n",
              "    }\n",
              "\n",
              "    .colab-df-convert {\n",
              "      background-color: #E8F0FE;\n",
              "      border: none;\n",
              "      border-radius: 50%;\n",
              "      cursor: pointer;\n",
              "      display: none;\n",
              "      fill: #1967D2;\n",
              "      height: 32px;\n",
              "      padding: 0 0 0 0;\n",
              "      width: 32px;\n",
              "    }\n",
              "\n",
              "    .colab-df-convert:hover {\n",
              "      background-color: #E2EBFA;\n",
              "      box-shadow: 0px 1px 2px rgba(60, 64, 67, 0.3), 0px 1px 3px 1px rgba(60, 64, 67, 0.15);\n",
              "      fill: #174EA6;\n",
              "    }\n",
              "\n",
              "    [theme=dark] .colab-df-convert {\n",
              "      background-color: #3B4455;\n",
              "      fill: #D2E3FC;\n",
              "    }\n",
              "\n",
              "    [theme=dark] .colab-df-convert:hover {\n",
              "      background-color: #434B5C;\n",
              "      box-shadow: 0px 1px 3px 1px rgba(0, 0, 0, 0.15);\n",
              "      filter: drop-shadow(0px 1px 2px rgba(0, 0, 0, 0.3));\n",
              "      fill: #FFFFFF;\n",
              "    }\n",
              "  </style>\n",
              "\n",
              "      <script>\n",
              "        const buttonEl =\n",
              "          document.querySelector('#df-65f82dab-c115-436d-83ee-830f8232b52a button.colab-df-convert');\n",
              "        buttonEl.style.display =\n",
              "          google.colab.kernel.accessAllowed ? 'block' : 'none';\n",
              "\n",
              "        async function convertToInteractive(key) {\n",
              "          const element = document.querySelector('#df-65f82dab-c115-436d-83ee-830f8232b52a');\n",
              "          const dataTable =\n",
              "            await google.colab.kernel.invokeFunction('convertToInteractive',\n",
              "                                                     [key], {});\n",
              "          if (!dataTable) return;\n",
              "\n",
              "          const docLinkHtml = 'Like what you see? Visit the ' +\n",
              "            '<a target=\"_blank\" href=https://colab.research.google.com/notebooks/data_table.ipynb>data table notebook</a>'\n",
              "            + ' to learn more about interactive tables.';\n",
              "          element.innerHTML = '';\n",
              "          dataTable['output_type'] = 'display_data';\n",
              "          await google.colab.output.renderOutput(dataTable, element);\n",
              "          const docLink = document.createElement('div');\n",
              "          docLink.innerHTML = docLinkHtml;\n",
              "          element.appendChild(docLink);\n",
              "        }\n",
              "      </script>\n",
              "    </div>\n",
              "  </div>\n",
              "  "
            ]
          },
          "metadata": {},
          "execution_count": 6
        }
      ]
    },
    {
      "cell_type": "code",
      "source": [
        "plt.plot(data,c=\"r\")"
      ],
      "metadata": {
        "colab": {
          "base_uri": "https://localhost:8080/",
          "height": 282
        },
        "id": "9foTzUTCREb7",
        "outputId": "dc4ba9f6-5c13-4e2a-bfd7-99d495e1d936"
      },
      "execution_count": null,
      "outputs": [
        {
          "output_type": "execute_result",
          "data": {
            "text/plain": [
              "[<matplotlib.lines.Line2D at 0x7fcfed726fa0>]"
            ]
          },
          "metadata": {},
          "execution_count": 7
        },
        {
          "output_type": "display_data",
          "data": {
            "text/plain": [
              "<Figure size 432x288 with 1 Axes>"
            ],
            "image/png": "[encoded data removed]"
          },
          "metadata": {
            "needs_background": "light"
          }
        }
      ]
    },
    {
      "cell_type": "code",
      "source": [
        "dataset = data.values\n",
        "dataset = dataset.astype('float32')"
      ],
      "metadata": {
        "id": "DipxftVPRHi9"
      },
      "execution_count": null,
      "outputs": []
    },
    {
      "cell_type": "code",
      "source": [
        "scaler = MinMaxScaler(feature_range=(0, 1)) \n",
        "dataset = scaler.fit_transform(dataset)"
      ],
      "metadata": {
        "id": "WkNJFGb4RLUC"
      },
      "execution_count": null,
      "outputs": []
    },
    {
      "cell_type": "code",
      "source": [
        "train_size = int(len(dataset) * 0.66)"
      ],
      "metadata": {
        "id": "KLp7nL9xRN71"
      },
      "execution_count": null,
      "outputs": []
    },
    {
      "cell_type": "code",
      "source": [
        "train, test = dataset[:train_size], dataset[train_size:]"
      ],
      "metadata": {
        "id": "qAyQKTysRQmh"
      },
      "execution_count": null,
      "outputs": []
    },
    {
      "cell_type": "code",
      "source": [
        "train.shape"
      ],
      "metadata": {
        "colab": {
          "base_uri": "https://localhost:8080/"
        },
        "id": "l1sS79CKRSxb",
        "outputId": "f8f89ead-141c-4b48-ef45-5506c7185f70"
      },
      "execution_count": null,
      "outputs": [
        {
          "output_type": "execute_result",
          "data": {
            "text/plain": [
              "(95, 1)"
            ]
          },
          "metadata": {},
          "execution_count": 12
        }
      ]
    },
    {
      "cell_type": "code",
      "source": [
        "test.shape"
      ],
      "metadata": {
        "colab": {
          "base_uri": "https://localhost:8080/"
        },
        "id": "2YcWpmm7RWGc",
        "outputId": "65c4c018-aec7-45db-b479-c1dd42219ecc"
      },
      "execution_count": null,
      "outputs": [
        {
          "output_type": "execute_result",
          "data": {
            "text/plain": [
              "(49, 1)"
            ]
          },
          "metadata": {},
          "execution_count": 13
        }
      ]
    },
    {
      "cell_type": "code",
      "source": [
        "#creates a dataset where X is the number of passengers at a given time (t, t-1, t-2...) \n",
        "#and Y is the number of passengers at the next time (t + 1)\n",
        "def to_sequences(dataset, seq_size=1):\n",
        "    x = []\n",
        "    y = []\n",
        "\n",
        "    for i in range(len(dataset)-seq_size-1):\n",
        "        #print(i)\n",
        "        window = dataset[i:(i+seq_size), 0]\n",
        "        x.append(window)\n",
        "        y.append(dataset[i+seq_size, 0])\n",
        "        \n",
        "    return np.array(x),np.array(y)"
      ],
      "metadata": {
        "id": "PhbIsmahRXnP"
      },
      "execution_count": null,
      "outputs": []
    },
    {
      "cell_type": "code",
      "source": [
        "seq_size = 15"
      ],
      "metadata": {
        "id": "h6KrHolaResu"
      },
      "execution_count": null,
      "outputs": []
    },
    {
      "cell_type": "code",
      "source": [
        "trainX, trainY = to_sequences(train, seq_size)\n",
        "testX, testY = to_sequences(test, seq_size)"
      ],
      "metadata": {
        "id": "7tpxwnj6Rh0l"
      },
      "execution_count": null,
      "outputs": []
    },
    {
      "cell_type": "code",
      "source": [
        "trainX = np.reshape(trainX, (trainX.shape[0], 1, trainX.shape[1]))\n",
        "testX = np.reshape(testX, (testX.shape[0], 1, testX.shape[1]))\n",
        "model = Sequential()\n",
        "model.add(SimpleRNN(40, activation='tanh', return_sequences=True, input_shape=(None, seq_size)))\n",
        "model.add(SimpleRNN(40, activation='tanh'))\n",
        "model.add(Dense(1))\n",
        "model.compile(optimizer='adam', loss='mean_squared_error')\n",
        "model.summary()"
      ],
      "metadata": {
        "colab": {
          "base_uri": "https://localhost:8080/"
        },
        "id": "ERk1jLlORlQR",
        "outputId": "762e3803-abb0-479c-9797-d32c88c20515"
      },
      "execution_count": null,
      "outputs": [
        {
          "output_type": "stream",
          "name": "stdout",
          "text": [
            "Model: \"sequential\"\n",
            "_________________________________________________________________\n",
            " Layer (type)                Output Shape              Param #   \n",
            "=================================================================\n",
            " simple_rnn (SimpleRNN)      (None, None, 40)          2240      \n",
            "                                                                 \n",
            " simple_rnn_1 (SimpleRNN)    (None, 40)                3240      \n",
            "                                                                 \n",
            " dense (Dense)               (None, 1)                 41        \n",
            "                                                                 \n",
            "=================================================================\n",
            "Total params: 5,521\n",
            "Trainable params: 5,521\n",
            "Non-trainable params: 0\n",
            "_________________________________________________________________\n"
          ]
        }
      ]
    },
    {
      "cell_type": "code",
      "source": [
        "model.fit(trainX, trainY, validation_data=(testX, testY),\n",
        "          verbose=2, epochs=100)"
      ],
      "metadata": {
        "colab": {
          "base_uri": "https://localhost:8080/"
        },
        "id": "6FELxw0kSJUW",
        "outputId": "73772f7d-ecce-4bde-ad6f-3d3dc3e3ff36"
      },
      "execution_count": null,
      "outputs": [
        {
          "output_type": "stream",
          "name": "stdout",
          "text": [
            "Epoch 1/100\n",
            "3/3 - 3s - loss: 0.0781 - val_loss: 0.1728 - 3s/epoch - 1s/step\n",
            "Epoch 2/100\n",
            "3/3 - 0s - loss: 0.0146 - val_loss: 0.0284 - 32ms/epoch - 11ms/step\n",
            "Epoch 3/100\n",
            "3/3 - 0s - loss: 0.0072 - val_loss: 0.0259 - 30ms/epoch - 10ms/step\n",
            "Epoch 4/100\n",
            "3/3 - 0s - loss: 0.0184 - val_loss: 0.0308 - 32ms/epoch - 11ms/step\n",
            "Epoch 5/100\n",
            "3/3 - 0s - loss: 0.0173 - val_loss: 0.0188 - 37ms/epoch - 12ms/step\n",
            "Epoch 6/100\n",
            "3/3 - 0s - loss: 0.0089 - val_loss: 0.0221 - 39ms/epoch - 13ms/step\n",
            "Epoch 7/100\n",
            "3/3 - 0s - loss: 0.0041 - val_loss: 0.0427 - 39ms/epoch - 13ms/step\n",
            "Epoch 8/100\n",
            "3/3 - 0s - loss: 0.0050 - val_loss: 0.0568 - 32ms/epoch - 11ms/step\n",
            "Epoch 9/100\n",
            "3/3 - 0s - loss: 0.0064 - val_loss: 0.0525 - 29ms/epoch - 10ms/step\n",
            "Epoch 10/100\n",
            "3/3 - 0s - loss: 0.0054 - val_loss: 0.0367 - 57ms/epoch - 19ms/step\n",
            "Epoch 11/100\n",
            "3/3 - 0s - loss: 0.0036 - val_loss: 0.0220 - 30ms/epoch - 10ms/step\n",
            "Epoch 12/100\n",
            "3/3 - 0s - loss: 0.0031 - val_loss: 0.0149 - 30ms/epoch - 10ms/step\n",
            "Epoch 13/100\n",
            "3/3 - 0s - loss: 0.0034 - val_loss: 0.0132 - 37ms/epoch - 12ms/step\n",
            "Epoch 14/100\n",
            "3/3 - 0s - loss: 0.0036 - val_loss: 0.0131 - 31ms/epoch - 10ms/step\n",
            "Epoch 15/100\n",
            "3/3 - 0s - loss: 0.0030 - val_loss: 0.0152 - 34ms/epoch - 11ms/step\n",
            "Epoch 16/100\n",
            "3/3 - 0s - loss: 0.0026 - val_loss: 0.0192 - 30ms/epoch - 10ms/step\n",
            "Epoch 17/100\n",
            "3/3 - 0s - loss: 0.0026 - val_loss: 0.0212 - 31ms/epoch - 10ms/step\n",
            "Epoch 18/100\n",
            "3/3 - 0s - loss: 0.0027 - val_loss: 0.0189 - 32ms/epoch - 11ms/step\n",
            "Epoch 19/100\n",
            "3/3 - 0s - loss: 0.0025 - val_loss: 0.0154 - 33ms/epoch - 11ms/step\n",
            "Epoch 20/100\n",
            "3/3 - 0s - loss: 0.0022 - val_loss: 0.0127 - 34ms/epoch - 11ms/step\n",
            "Epoch 21/100\n",
            "3/3 - 0s - loss: 0.0022 - val_loss: 0.0111 - 31ms/epoch - 10ms/step\n",
            "Epoch 22/100\n",
            "3/3 - 0s - loss: 0.0022 - val_loss: 0.0109 - 33ms/epoch - 11ms/step\n",
            "Epoch 23/100\n",
            "3/3 - 0s - loss: 0.0021 - val_loss: 0.0112 - 34ms/epoch - 11ms/step\n",
            "Epoch 24/100\n",
            "3/3 - 0s - loss: 0.0020 - val_loss: 0.0118 - 40ms/epoch - 13ms/step\n",
            "Epoch 25/100\n",
            "3/3 - 0s - loss: 0.0020 - val_loss: 0.0122 - 31ms/epoch - 10ms/step\n",
            "Epoch 26/100\n",
            "3/3 - 0s - loss: 0.0019 - val_loss: 0.0114 - 47ms/epoch - 16ms/step\n",
            "Epoch 27/100\n",
            "3/3 - 0s - loss: 0.0019 - val_loss: 0.0101 - 32ms/epoch - 11ms/step\n",
            "Epoch 28/100\n",
            "3/3 - 0s - loss: 0.0019 - val_loss: 0.0092 - 30ms/epoch - 10ms/step\n",
            "Epoch 29/100\n",
            "3/3 - 0s - loss: 0.0018 - val_loss: 0.0093 - 32ms/epoch - 11ms/step\n",
            "Epoch 30/100\n",
            "3/3 - 0s - loss: 0.0018 - val_loss: 0.0097 - 37ms/epoch - 12ms/step\n",
            "Epoch 31/100\n",
            "3/3 - 0s - loss: 0.0018 - val_loss: 0.0104 - 33ms/epoch - 11ms/step\n",
            "Epoch 32/100\n",
            "3/3 - 0s - loss: 0.0017 - val_loss: 0.0100 - 48ms/epoch - 16ms/step\n",
            "Epoch 33/100\n",
            "3/3 - 0s - loss: 0.0017 - val_loss: 0.0094 - 48ms/epoch - 16ms/step\n",
            "Epoch 34/100\n",
            "3/3 - 0s - loss: 0.0017 - val_loss: 0.0089 - 31ms/epoch - 10ms/step\n",
            "Epoch 35/100\n",
            "3/3 - 0s - loss: 0.0016 - val_loss: 0.0086 - 30ms/epoch - 10ms/step\n",
            "Epoch 36/100\n",
            "3/3 - 0s - loss: 0.0016 - val_loss: 0.0085 - 31ms/epoch - 10ms/step\n",
            "Epoch 37/100\n",
            "3/3 - 0s - loss: 0.0016 - val_loss: 0.0085 - 29ms/epoch - 10ms/step\n",
            "Epoch 38/100\n",
            "3/3 - 0s - loss: 0.0015 - val_loss: 0.0084 - 31ms/epoch - 10ms/step\n",
            "Epoch 39/100\n",
            "3/3 - 0s - loss: 0.0015 - val_loss: 0.0086 - 33ms/epoch - 11ms/step\n",
            "Epoch 40/100\n",
            "3/3 - 0s - loss: 0.0015 - val_loss: 0.0082 - 33ms/epoch - 11ms/step\n",
            "Epoch 41/100\n",
            "3/3 - 0s - loss: 0.0015 - val_loss: 0.0074 - 31ms/epoch - 10ms/step\n",
            "Epoch 42/100\n",
            "3/3 - 0s - loss: 0.0015 - val_loss: 0.0072 - 32ms/epoch - 11ms/step\n",
            "Epoch 43/100\n",
            "3/3 - 0s - loss: 0.0014 - val_loss: 0.0077 - 31ms/epoch - 10ms/step\n",
            "Epoch 44/100\n",
            "3/3 - 0s - loss: 0.0014 - val_loss: 0.0084 - 32ms/epoch - 11ms/step\n",
            "Epoch 45/100\n",
            "3/3 - 0s - loss: 0.0014 - val_loss: 0.0085 - 38ms/epoch - 13ms/step\n",
            "Epoch 46/100\n",
            "3/3 - 0s - loss: 0.0014 - val_loss: 0.0082 - 37ms/epoch - 12ms/step\n",
            "Epoch 47/100\n",
            "3/3 - 0s - loss: 0.0013 - val_loss: 0.0068 - 33ms/epoch - 11ms/step\n",
            "Epoch 48/100\n",
            "3/3 - 0s - loss: 0.0014 - val_loss: 0.0061 - 31ms/epoch - 10ms/step\n",
            "Epoch 49/100\n",
            "3/3 - 0s - loss: 0.0014 - val_loss: 0.0065 - 32ms/epoch - 11ms/step\n",
            "Epoch 50/100\n",
            "3/3 - 0s - loss: 0.0013 - val_loss: 0.0078 - 33ms/epoch - 11ms/step\n",
            "Epoch 51/100\n",
            "3/3 - 0s - loss: 0.0013 - val_loss: 0.0082 - 41ms/epoch - 14ms/step\n",
            "Epoch 52/100\n",
            "3/3 - 0s - loss: 0.0013 - val_loss: 0.0071 - 31ms/epoch - 10ms/step\n",
            "Epoch 53/100\n",
            "3/3 - 0s - loss: 0.0012 - val_loss: 0.0062 - 41ms/epoch - 14ms/step\n",
            "Epoch 54/100\n",
            "3/3 - 0s - loss: 0.0012 - val_loss: 0.0064 - 33ms/epoch - 11ms/step\n",
            "Epoch 55/100\n",
            "3/3 - 0s - loss: 0.0012 - val_loss: 0.0073 - 31ms/epoch - 10ms/step\n",
            "Epoch 56/100\n",
            "3/3 - 0s - loss: 0.0012 - val_loss: 0.0071 - 33ms/epoch - 11ms/step\n",
            "Epoch 57/100\n",
            "3/3 - 0s - loss: 0.0012 - val_loss: 0.0063 - 33ms/epoch - 11ms/step\n",
            "Epoch 58/100\n",
            "3/3 - 0s - loss: 0.0012 - val_loss: 0.0058 - 33ms/epoch - 11ms/step\n",
            "Epoch 59/100\n",
            "3/3 - 0s - loss: 0.0012 - val_loss: 0.0067 - 31ms/epoch - 10ms/step\n",
            "Epoch 60/100\n",
            "3/3 - 0s - loss: 0.0011 - val_loss: 0.0071 - 30ms/epoch - 10ms/step\n",
            "Epoch 61/100\n",
            "3/3 - 0s - loss: 0.0011 - val_loss: 0.0070 - 29ms/epoch - 10ms/step\n",
            "Epoch 62/100\n",
            "3/3 - 0s - loss: 0.0011 - val_loss: 0.0066 - 30ms/epoch - 10ms/step\n",
            "Epoch 63/100\n",
            "3/3 - 0s - loss: 0.0011 - val_loss: 0.0062 - 31ms/epoch - 10ms/step\n",
            "Epoch 64/100\n",
            "3/3 - 0s - loss: 0.0011 - val_loss: 0.0055 - 47ms/epoch - 16ms/step\n",
            "Epoch 65/100\n",
            "3/3 - 0s - loss: 0.0011 - val_loss: 0.0061 - 30ms/epoch - 10ms/step\n",
            "Epoch 66/100\n",
            "3/3 - 0s - loss: 0.0010 - val_loss: 0.0071 - 32ms/epoch - 11ms/step\n",
            "Epoch 67/100\n",
            "3/3 - 0s - loss: 0.0011 - val_loss: 0.0070 - 31ms/epoch - 10ms/step\n",
            "Epoch 68/100\n",
            "3/3 - 0s - loss: 0.0010 - val_loss: 0.0055 - 31ms/epoch - 10ms/step\n",
            "Epoch 69/100\n",
            "3/3 - 0s - loss: 0.0010 - val_loss: 0.0050 - 31ms/epoch - 10ms/step\n",
            "Epoch 70/100\n",
            "3/3 - 0s - loss: 0.0010 - val_loss: 0.0052 - 33ms/epoch - 11ms/step\n",
            "Epoch 71/100\n",
            "3/3 - 0s - loss: 9.8487e-04 - val_loss: 0.0060 - 31ms/epoch - 10ms/step\n",
            "Epoch 72/100\n",
            "3/3 - 0s - loss: 0.0010 - val_loss: 0.0065 - 32ms/epoch - 11ms/step\n",
            "Epoch 73/100\n",
            "3/3 - 0s - loss: 9.7806e-04 - val_loss: 0.0049 - 31ms/epoch - 10ms/step\n",
            "Epoch 74/100\n",
            "3/3 - 0s - loss: 9.7511e-04 - val_loss: 0.0047 - 37ms/epoch - 12ms/step\n",
            "Epoch 75/100\n",
            "3/3 - 0s - loss: 9.5852e-04 - val_loss: 0.0055 - 33ms/epoch - 11ms/step\n",
            "Epoch 76/100\n",
            "3/3 - 0s - loss: 9.3888e-04 - val_loss: 0.0063 - 35ms/epoch - 12ms/step\n",
            "Epoch 77/100\n",
            "3/3 - 0s - loss: 9.5393e-04 - val_loss: 0.0055 - 34ms/epoch - 11ms/step\n",
            "Epoch 78/100\n",
            "3/3 - 0s - loss: 9.5668e-04 - val_loss: 0.0044 - 39ms/epoch - 13ms/step\n",
            "Epoch 79/100\n",
            "3/3 - 0s - loss: 9.3867e-04 - val_loss: 0.0050 - 35ms/epoch - 12ms/step\n",
            "Epoch 80/100\n",
            "3/3 - 0s - loss: 8.8771e-04 - val_loss: 0.0056 - 49ms/epoch - 16ms/step\n",
            "Epoch 81/100\n",
            "3/3 - 0s - loss: 9.0633e-04 - val_loss: 0.0055 - 31ms/epoch - 10ms/step\n",
            "Epoch 82/100\n",
            "3/3 - 0s - loss: 8.8579e-04 - val_loss: 0.0052 - 32ms/epoch - 11ms/step\n",
            "Epoch 83/100\n",
            "3/3 - 0s - loss: 8.6959e-04 - val_loss: 0.0048 - 32ms/epoch - 11ms/step\n",
            "Epoch 84/100\n",
            "3/3 - 0s - loss: 8.7067e-04 - val_loss: 0.0042 - 35ms/epoch - 12ms/step\n",
            "Epoch 85/100\n",
            "3/3 - 0s - loss: 8.6185e-04 - val_loss: 0.0048 - 32ms/epoch - 11ms/step\n",
            "Epoch 86/100\n",
            "3/3 - 0s - loss: 8.4274e-04 - val_loss: 0.0061 - 34ms/epoch - 11ms/step\n",
            "Epoch 87/100\n",
            "3/3 - 0s - loss: 8.8688e-04 - val_loss: 0.0056 - 32ms/epoch - 11ms/step\n",
            "Epoch 88/100\n",
            "3/3 - 0s - loss: 8.3603e-04 - val_loss: 0.0043 - 31ms/epoch - 10ms/step\n",
            "Epoch 89/100\n",
            "3/3 - 0s - loss: 8.2855e-04 - val_loss: 0.0044 - 59ms/epoch - 20ms/step\n",
            "Epoch 90/100\n",
            "3/3 - 0s - loss: 8.0993e-04 - val_loss: 0.0050 - 77ms/epoch - 26ms/step\n",
            "Epoch 91/100\n",
            "3/3 - 0s - loss: 8.0608e-04 - val_loss: 0.0058 - 100ms/epoch - 33ms/step\n",
            "Epoch 92/100\n",
            "3/3 - 0s - loss: 8.1227e-04 - val_loss: 0.0051 - 66ms/epoch - 22ms/step\n",
            "Epoch 93/100\n",
            "3/3 - 0s - loss: 7.7448e-04 - val_loss: 0.0042 - 145ms/epoch - 48ms/step\n",
            "Epoch 94/100\n",
            "3/3 - 0s - loss: 8.0421e-04 - val_loss: 0.0043 - 68ms/epoch - 23ms/step\n",
            "Epoch 95/100\n",
            "3/3 - 0s - loss: 7.7993e-04 - val_loss: 0.0052 - 111ms/epoch - 37ms/step\n",
            "Epoch 96/100\n",
            "3/3 - 0s - loss: 7.9869e-04 - val_loss: 0.0052 - 54ms/epoch - 18ms/step\n",
            "Epoch 97/100\n",
            "3/3 - 0s - loss: 7.5648e-04 - val_loss: 0.0042 - 65ms/epoch - 22ms/step\n",
            "Epoch 98/100\n",
            "3/3 - 0s - loss: 7.6820e-04 - val_loss: 0.0043 - 117ms/epoch - 39ms/step\n",
            "Epoch 99/100\n",
            "3/3 - 0s - loss: 7.4041e-04 - val_loss: 0.0052 - 82ms/epoch - 27ms/step\n",
            "Epoch 100/100\n",
            "3/3 - 0s - loss: 7.7328e-04 - val_loss: 0.0054 - 60ms/epoch - 20ms/step\n"
          ]
        },
        {
          "output_type": "execute_result",
          "data": {
            "text/plain": [
              "<keras.callbacks.History at 0x7fcfe041bf40>"
            ]
          },
          "metadata": {},
          "execution_count": 19
        }
      ]
    },
    {
      "cell_type": "code",
      "source": [
        "trainPredict = model.predict(trainX)\n",
        "testPredict = model.predict(testX)"
      ],
      "metadata": {
        "colab": {
          "base_uri": "https://localhost:8080/"
        },
        "id": "6tX-b34yS_zV",
        "outputId": "4d4a96d9-5f14-4c87-ede3-66d672602fc7"
      },
      "execution_count": null,
      "outputs": [
        {
          "output_type": "stream",
          "name": "stdout",
          "text": [
            "3/3 [==============================] - 0s 6ms/step\n",
            "2/2 [==============================] - 0s 8ms/step\n"
          ]
        }
      ]
    },
    {
      "cell_type": "code",
      "source": [
        "trainPredict = scaler.inverse_transform(trainPredict)\n",
        "trainY = scaler.inverse_transform([trainY])\n",
        "testPredict = scaler.inverse_transform(testPredict)\n",
        "testY = scaler.inverse_transform([testY])"
      ],
      "metadata": {
        "id": "SNsbuR3uUcop"
      },
      "execution_count": null,
      "outputs": []
    },
    {
      "cell_type": "code",
      "source": [
        "trainScore = math.sqrt(mean_squared_error(trainY[0], trainPredict[:,0]))\n",
        "print('Train Score: %.2f RMSE' % (trainScore))\n",
        "\n",
        "testScore = math.sqrt(mean_squared_error(testY[0], testPredict[:,0]))\n",
        "print('Test Score: %.2f RMSE' % (testScore))"
      ],
      "metadata": {
        "colab": {
          "base_uri": "https://localhost:8080/"
        },
        "id": "ZjZdZDReUgZX",
        "outputId": "3f448892-a145-4203-915c-625db4838f9c"
      },
      "execution_count": null,
      "outputs": [
        {
          "output_type": "stream",
          "name": "stdout",
          "text": [
            "Train Score: 14.17 RMSE\n",
            "Test Score: 38.11 RMSE\n"
          ]
        }
      ]
    },
    {
      "cell_type": "code",
      "source": [
        "trainPredictPlot = np.empty_like(dataset)\n",
        "trainPredictPlot[:, :] = np.nan\n",
        "trainPredictPlot[seq_size:len(trainPredict)+seq_size, :] = trainPredict"
      ],
      "metadata": {
        "id": "-BO8KIzfUj3B"
      },
      "execution_count": null,
      "outputs": []
    },
    {
      "cell_type": "code",
      "source": [
        "testPredictPlot = np.empty_like(dataset)\n",
        "testPredictPlot[:, :] = np.nan\n",
        "testPredictPlot[len(trainPredict)+(seq_size*2)+1:len(dataset)-1, :] = testPredict"
      ],
      "metadata": {
        "id": "ywPzqSPDUnWY"
      },
      "execution_count": null,
      "outputs": []
    },
    {
      "cell_type": "code",
      "source": [
        "plt.plot(scaler.inverse_transform(dataset))\n",
        "plt.plot(trainPredictPlot)\n",
        "plt.plot(testPredictPlot)\n",
        "plt.show()"
      ],
      "metadata": {
        "colab": {
          "base_uri": "https://localhost:8080/",
          "height": 265
        },
        "id": "Lq4gHP6vUqZd",
        "outputId": "afdbd0a2-4dbd-404a-99ff-f4417f58e4de"
      },
      "execution_count": null,
      "outputs": [
        {
          "output_type": "display_data",
          "data": {
            "text/plain": [
              "<Figure size 432x288 with 1 Axes>"
            ],
            "image/png": "[encoded data removed]"
          },
          "metadata": {
            "needs_background": "light"
          }
        }
      ]
    },
    {
      "cell_type": "code",
      "source": [],
      "metadata": {
        "id": "UbQLW65PUsh3"
      },
      "execution_count": null,
      "outputs": []
    }
  ]
}