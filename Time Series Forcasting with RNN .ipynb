{
 "cells": [
  {
   "cell_type": "code",
   "execution_count": 1,
   "id": "532aa3dd",
   "metadata": {},
   "outputs": [],
   "source": [
    "import numpy as np\n",
    "import matplotlib.pyplot as plt\n",
    "import pandas as pd\n",
    "import math"
   ]
  },
  {
   "cell_type": "code",
   "execution_count": 2,
   "id": "c1d4830a",
   "metadata": {},
   "outputs": [],
   "source": [
    "from keras.models import Sequential\n",
    "from keras.layers import Dense\n",
    "from sklearn.preprocessing import MinMaxScaler\n",
    "from sklearn.metrics import mean_squared_error"
   ]
  },
  {
   "cell_type": "code",
   "execution_count": 9,
   "id": "5a98c130",
   "metadata": {},
   "outputs": [],
   "source": [
    "df = pd.read_csv('C:/Users/hp/Downloads/AirPassengers.csv',usecols=[1])"
   ]
  },
  {
   "cell_type": "code",
   "execution_count": 10,
   "id": "5e117f7a",
   "metadata": {},
   "outputs": [
    {
     "name": "stdout",
     "output_type": "stream",
     "text": [
      "#Passengers    int64\n",
      "dtype: object\n"
     ]
    }
   ],
   "source": [
    "print(df.dtypes)"
   ]
  },
  {
   "cell_type": "code",
   "execution_count": 11,
   "id": "515db46e",
   "metadata": {},
   "outputs": [],
   "source": [
    "df = df.rename(columns={\"#Passengers\":\"Passengers\"})"
   ]
  },
  {
   "cell_type": "code",
   "execution_count": 12,
   "id": "e6abbd13",
   "metadata": {},
   "outputs": [
    {
     "data": {
      "text/html": [
       "<div>\n",
       "<style scoped>\n",
       "    .dataframe tbody tr th:only-of-type {\n",
       "        vertical-align: middle;\n",
       "    }\n",
       "\n",
       "    .dataframe tbody tr th {\n",
       "        vertical-align: top;\n",
       "    }\n",
       "\n",
       "    .dataframe thead th {\n",
       "        text-align: right;\n",
       "    }\n",
       "</style>\n",
       "<table border=\"1\" class=\"dataframe\">\n",
       "  <thead>\n",
       "    <tr style=\"text-align: right;\">\n",
       "      <th></th>\n",
       "      <th>Passengers</th>\n",
       "    </tr>\n",
       "  </thead>\n",
       "  <tbody>\n",
       "    <tr>\n",
       "      <th>0</th>\n",
       "      <td>112</td>\n",
       "    </tr>\n",
       "    <tr>\n",
       "      <th>1</th>\n",
       "      <td>118</td>\n",
       "    </tr>\n",
       "    <tr>\n",
       "      <th>2</th>\n",
       "      <td>132</td>\n",
       "    </tr>\n",
       "    <tr>\n",
       "      <th>3</th>\n",
       "      <td>129</td>\n",
       "    </tr>\n",
       "    <tr>\n",
       "      <th>4</th>\n",
       "      <td>121</td>\n",
       "    </tr>\n",
       "  </tbody>\n",
       "</table>\n",
       "</div>"
      ],
      "text/plain": [
       "   Passengers\n",
       "0         112\n",
       "1         118\n",
       "2         132\n",
       "3         129\n",
       "4         121"
      ]
     },
     "execution_count": 12,
     "metadata": {},
     "output_type": "execute_result"
    }
   ],
   "source": [
    "df.head(5)"
   ]
  },
  {
   "cell_type": "code",
   "execution_count": 13,
   "id": "a7831f5c",
   "metadata": {},
   "outputs": [],
   "source": [
    "dataframe = df.values\n",
    "dataframe = dataframe.astype('float32')"
   ]
  },
  {
   "cell_type": "code",
   "execution_count": 14,
   "id": "8ad8820c",
   "metadata": {},
   "outputs": [],
   "source": [
    "scaler = MinMaxScaler(feature_range=(0,1))\n",
    "dataframe = scaler.fit_transform(dataframe)"
   ]
  },
  {
   "cell_type": "code",
   "execution_count": 16,
   "id": "90d015a6",
   "metadata": {},
   "outputs": [],
   "source": [
    "train_size = int(len(dataframe)*0.66)\n",
    "train,test = dataframe[:train_size],dataframe[train_size:]"
   ]
  },
  {
   "cell_type": "code",
   "execution_count": 18,
   "id": "3884dccb",
   "metadata": {},
   "outputs": [],
   "source": [
    "def function(dataframe , width = 1):\n",
    "    X = []\n",
    "    y = []\n",
    "    for i in range(len(dataframe)-width-1):\n",
    "        w = dataframe[i:(i+width),0]\n",
    "        X.append(w)\n",
    "        y.append(dataframe[i+width,0])\n",
    "        \n",
    "    return np.array(X),np.array(y)"
   ]
  },
  {
   "cell_type": "code",
   "execution_count": 19,
   "id": "6bf51ecc",
   "metadata": {},
   "outputs": [],
   "source": [
    "width = 5"
   ]
  },
  {
   "cell_type": "code",
   "execution_count": 20,
   "id": "16389525",
   "metadata": {},
   "outputs": [],
   "source": [
    "train_X,train_y = function(train , width)\n",
    "test_X,test_y = function(test , width)"
   ]
  },
  {
   "cell_type": "markdown",
   "id": "b19e9bc6",
   "metadata": {},
   "source": [
    "## Build deep model"
   ]
  },
  {
   "cell_type": "code",
   "execution_count": 22,
   "id": "f67f5013",
   "metadata": {},
   "outputs": [
    {
     "name": "stdout",
     "output_type": "stream",
     "text": [
      "Model: \"sequential_1\"\n",
      "_________________________________________________________________\n",
      " Layer (type)                Output Shape              Param #   \n",
      "=================================================================\n",
      " dense (Dense)               (None, 64)                384       \n",
      "                                                                 \n",
      " dense_1 (Dense)             (None, 32)                2080      \n",
      "                                                                 \n",
      " dense_2 (Dense)             (None, 1)                 33        \n",
      "                                                                 \n",
      "=================================================================\n",
      "Total params: 2,497\n",
      "Trainable params: 2,497\n",
      "Non-trainable params: 0\n",
      "_________________________________________________________________\n",
      "None\n"
     ]
    }
   ],
   "source": [
    "model = Sequential()\n",
    "model.add(Dense(64,input_dim=width , activation='relu'))\n",
    "model.add(Dense(32, activation='relu'))\n",
    "model.add(Dense(1))\n",
    "model.compile(loss='mean_squared_error',optimizer='adam',metrics=['acc'])\n",
    "print(model.summary())"
   ]
  },
  {
   "cell_type": "code",
   "execution_count": 23,
   "id": "f9928933",
   "metadata": {},
   "outputs": [
    {
     "name": "stdout",
     "output_type": "stream",
     "text": [
      "Epoch 1/100\n",
      "3/3 - 1s - loss: 0.0724 - acc: 0.0112 - val_loss: 0.3374 - val_acc: 0.0000e+00 - 1s/epoch - 417ms/step\n",
      "Epoch 2/100\n",
      "3/3 - 0s - loss: 0.0429 - acc: 0.0112 - val_loss: 0.2183 - val_acc: 0.0000e+00 - 76ms/epoch - 25ms/step\n",
      "Epoch 3/100\n",
      "3/3 - 0s - loss: 0.0243 - acc: 0.0112 - val_loss: 0.1314 - val_acc: 0.0000e+00 - 87ms/epoch - 29ms/step\n",
      "Epoch 4/100\n",
      "3/3 - 0s - loss: 0.0127 - acc: 0.0112 - val_loss: 0.0714 - val_acc: 0.0000e+00 - 73ms/epoch - 24ms/step\n",
      "Epoch 5/100\n",
      "3/3 - 0s - loss: 0.0067 - acc: 0.0112 - val_loss: 0.0375 - val_acc: 0.0233 - 75ms/epoch - 25ms/step\n",
      "Epoch 6/100\n",
      "3/3 - 0s - loss: 0.0059 - acc: 0.0112 - val_loss: 0.0240 - val_acc: 0.0233 - 83ms/epoch - 28ms/step\n",
      "Epoch 7/100\n",
      "3/3 - 0s - loss: 0.0070 - acc: 0.0112 - val_loss: 0.0210 - val_acc: 0.0233 - 84ms/epoch - 28ms/step\n",
      "Epoch 8/100\n",
      "3/3 - 0s - loss: 0.0076 - acc: 0.0112 - val_loss: 0.0206 - val_acc: 0.0233 - 77ms/epoch - 26ms/step\n",
      "Epoch 9/100\n",
      "3/3 - 0s - loss: 0.0068 - acc: 0.0112 - val_loss: 0.0212 - val_acc: 0.0233 - 68ms/epoch - 23ms/step\n",
      "Epoch 10/100\n",
      "3/3 - 0s - loss: 0.0056 - acc: 0.0112 - val_loss: 0.0234 - val_acc: 0.0233 - 73ms/epoch - 24ms/step\n",
      "Epoch 11/100\n",
      "3/3 - 0s - loss: 0.0048 - acc: 0.0112 - val_loss: 0.0271 - val_acc: 0.0233 - 83ms/epoch - 28ms/step\n",
      "Epoch 12/100\n",
      "3/3 - 0s - loss: 0.0045 - acc: 0.0112 - val_loss: 0.0302 - val_acc: 0.0233 - 69ms/epoch - 23ms/step\n",
      "Epoch 13/100\n",
      "3/3 - 0s - loss: 0.0046 - acc: 0.0112 - val_loss: 0.0315 - val_acc: 0.0233 - 68ms/epoch - 23ms/step\n",
      "Epoch 14/100\n",
      "3/3 - 0s - loss: 0.0046 - acc: 0.0112 - val_loss: 0.0303 - val_acc: 0.0233 - 68ms/epoch - 23ms/step\n",
      "Epoch 15/100\n",
      "3/3 - 0s - loss: 0.0043 - acc: 0.0112 - val_loss: 0.0272 - val_acc: 0.0233 - 68ms/epoch - 23ms/step\n",
      "Epoch 16/100\n",
      "3/3 - 0s - loss: 0.0039 - acc: 0.0112 - val_loss: 0.0239 - val_acc: 0.0233 - 68ms/epoch - 23ms/step\n",
      "Epoch 17/100\n",
      "3/3 - 0s - loss: 0.0036 - acc: 0.0112 - val_loss: 0.0210 - val_acc: 0.0233 - 68ms/epoch - 23ms/step\n",
      "Epoch 18/100\n",
      "3/3 - 0s - loss: 0.0034 - acc: 0.0112 - val_loss: 0.0188 - val_acc: 0.0233 - 68ms/epoch - 23ms/step\n",
      "Epoch 19/100\n",
      "3/3 - 0s - loss: 0.0032 - acc: 0.0112 - val_loss: 0.0175 - val_acc: 0.0233 - 83ms/epoch - 28ms/step\n",
      "Epoch 20/100\n",
      "3/3 - 0s - loss: 0.0032 - acc: 0.0112 - val_loss: 0.0167 - val_acc: 0.0233 - 88ms/epoch - 29ms/step\n",
      "Epoch 21/100\n",
      "3/3 - 0s - loss: 0.0031 - acc: 0.0112 - val_loss: 0.0163 - val_acc: 0.0233 - 72ms/epoch - 24ms/step\n",
      "Epoch 22/100\n",
      "3/3 - 0s - loss: 0.0030 - acc: 0.0112 - val_loss: 0.0161 - val_acc: 0.0233 - 77ms/epoch - 26ms/step\n",
      "Epoch 23/100\n",
      "3/3 - 0s - loss: 0.0030 - acc: 0.0112 - val_loss: 0.0155 - val_acc: 0.0233 - 77ms/epoch - 26ms/step\n",
      "Epoch 24/100\n",
      "3/3 - 0s - loss: 0.0029 - acc: 0.0112 - val_loss: 0.0151 - val_acc: 0.0233 - 83ms/epoch - 28ms/step\n",
      "Epoch 25/100\n",
      "3/3 - 0s - loss: 0.0028 - acc: 0.0112 - val_loss: 0.0147 - val_acc: 0.0233 - 100ms/epoch - 33ms/step\n",
      "Epoch 26/100\n",
      "3/3 - 0s - loss: 0.0028 - acc: 0.0112 - val_loss: 0.0146 - val_acc: 0.0233 - 83ms/epoch - 28ms/step\n",
      "Epoch 27/100\n",
      "3/3 - 0s - loss: 0.0027 - acc: 0.0112 - val_loss: 0.0144 - val_acc: 0.0233 - 94ms/epoch - 31ms/step\n",
      "Epoch 28/100\n",
      "3/3 - 0s - loss: 0.0026 - acc: 0.0112 - val_loss: 0.0140 - val_acc: 0.0233 - 63ms/epoch - 21ms/step\n",
      "Epoch 29/100\n",
      "3/3 - 0s - loss: 0.0026 - acc: 0.0112 - val_loss: 0.0136 - val_acc: 0.0233 - 68ms/epoch - 23ms/step\n",
      "Epoch 30/100\n",
      "3/3 - 0s - loss: 0.0026 - acc: 0.0112 - val_loss: 0.0131 - val_acc: 0.0233 - 79ms/epoch - 26ms/step\n",
      "Epoch 31/100\n",
      "3/3 - 0s - loss: 0.0025 - acc: 0.0112 - val_loss: 0.0130 - val_acc: 0.0233 - 88ms/epoch - 29ms/step\n",
      "Epoch 32/100\n",
      "3/3 - 0s - loss: 0.0024 - acc: 0.0112 - val_loss: 0.0129 - val_acc: 0.0233 - 99ms/epoch - 33ms/step\n",
      "Epoch 33/100\n",
      "3/3 - 0s - loss: 0.0024 - acc: 0.0112 - val_loss: 0.0130 - val_acc: 0.0233 - 90ms/epoch - 30ms/step\n",
      "Epoch 34/100\n",
      "3/3 - 0s - loss: 0.0023 - acc: 0.0112 - val_loss: 0.0127 - val_acc: 0.0233 - 67ms/epoch - 22ms/step\n",
      "Epoch 35/100\n",
      "3/3 - 0s - loss: 0.0023 - acc: 0.0112 - val_loss: 0.0123 - val_acc: 0.0233 - 82ms/epoch - 27ms/step\n",
      "Epoch 36/100\n",
      "3/3 - 0s - loss: 0.0022 - acc: 0.0112 - val_loss: 0.0118 - val_acc: 0.0233 - 104ms/epoch - 35ms/step\n",
      "Epoch 37/100\n",
      "3/3 - 0s - loss: 0.0022 - acc: 0.0112 - val_loss: 0.0115 - val_acc: 0.0233 - 96ms/epoch - 32ms/step\n",
      "Epoch 38/100\n",
      "3/3 - 0s - loss: 0.0022 - acc: 0.0112 - val_loss: 0.0114 - val_acc: 0.0233 - 96ms/epoch - 32ms/step\n",
      "Epoch 39/100\n",
      "3/3 - 0s - loss: 0.0021 - acc: 0.0112 - val_loss: 0.0112 - val_acc: 0.0233 - 98ms/epoch - 33ms/step\n",
      "Epoch 40/100\n",
      "3/3 - 0s - loss: 0.0021 - acc: 0.0112 - val_loss: 0.0110 - val_acc: 0.0233 - 83ms/epoch - 28ms/step\n",
      "Epoch 41/100\n",
      "3/3 - 0s - loss: 0.0020 - acc: 0.0112 - val_loss: 0.0107 - val_acc: 0.0233 - 73ms/epoch - 24ms/step\n",
      "Epoch 42/100\n",
      "3/3 - 0s - loss: 0.0020 - acc: 0.0112 - val_loss: 0.0105 - val_acc: 0.0233 - 80ms/epoch - 27ms/step\n",
      "Epoch 43/100\n",
      "3/3 - 0s - loss: 0.0020 - acc: 0.0112 - val_loss: 0.0102 - val_acc: 0.0233 - 80ms/epoch - 27ms/step\n",
      "Epoch 44/100\n",
      "3/3 - 0s - loss: 0.0019 - acc: 0.0112 - val_loss: 0.0101 - val_acc: 0.0233 - 72ms/epoch - 24ms/step\n",
      "Epoch 45/100\n",
      "3/3 - 0s - loss: 0.0019 - acc: 0.0112 - val_loss: 0.0098 - val_acc: 0.0233 - 80ms/epoch - 27ms/step\n",
      "Epoch 46/100\n",
      "3/3 - 0s - loss: 0.0019 - acc: 0.0112 - val_loss: 0.0096 - val_acc: 0.0233 - 63ms/epoch - 21ms/step\n",
      "Epoch 47/100\n",
      "3/3 - 0s - loss: 0.0018 - acc: 0.0112 - val_loss: 0.0094 - val_acc: 0.0233 - 90ms/epoch - 30ms/step\n",
      "Epoch 48/100\n",
      "3/3 - 0s - loss: 0.0018 - acc: 0.0112 - val_loss: 0.0093 - val_acc: 0.0233 - 80ms/epoch - 27ms/step\n",
      "Epoch 49/100\n",
      "3/3 - 0s - loss: 0.0018 - acc: 0.0112 - val_loss: 0.0093 - val_acc: 0.0233 - 80ms/epoch - 27ms/step\n",
      "Epoch 50/100\n",
      "3/3 - 0s - loss: 0.0017 - acc: 0.0112 - val_loss: 0.0089 - val_acc: 0.0233 - 80ms/epoch - 27ms/step\n",
      "Epoch 51/100\n",
      "3/3 - 0s - loss: 0.0017 - acc: 0.0112 - val_loss: 0.0086 - val_acc: 0.0233 - 72ms/epoch - 24ms/step\n",
      "Epoch 52/100\n",
      "3/3 - 0s - loss: 0.0017 - acc: 0.0112 - val_loss: 0.0086 - val_acc: 0.0233 - 80ms/epoch - 27ms/step\n",
      "Epoch 53/100\n",
      "3/3 - 0s - loss: 0.0017 - acc: 0.0112 - val_loss: 0.0083 - val_acc: 0.0233 - 80ms/epoch - 27ms/step\n",
      "Epoch 54/100\n",
      "3/3 - 0s - loss: 0.0016 - acc: 0.0112 - val_loss: 0.0084 - val_acc: 0.0233 - 80ms/epoch - 27ms/step\n",
      "Epoch 55/100\n",
      "3/3 - 0s - loss: 0.0016 - acc: 0.0112 - val_loss: 0.0085 - val_acc: 0.0233 - 72ms/epoch - 24ms/step\n",
      "Epoch 56/100\n",
      "3/3 - 0s - loss: 0.0016 - acc: 0.0112 - val_loss: 0.0081 - val_acc: 0.0233 - 80ms/epoch - 27ms/step\n",
      "Epoch 57/100\n",
      "3/3 - 0s - loss: 0.0016 - acc: 0.0112 - val_loss: 0.0080 - val_acc: 0.0233 - 80ms/epoch - 27ms/step\n",
      "Epoch 58/100\n",
      "3/3 - 0s - loss: 0.0016 - acc: 0.0112 - val_loss: 0.0078 - val_acc: 0.0233 - 80ms/epoch - 27ms/step\n",
      "Epoch 59/100\n",
      "3/3 - 0s - loss: 0.0016 - acc: 0.0112 - val_loss: 0.0079 - val_acc: 0.0233 - 80ms/epoch - 27ms/step\n",
      "Epoch 60/100\n",
      "3/3 - 0s - loss: 0.0016 - acc: 0.0112 - val_loss: 0.0077 - val_acc: 0.0233 - 72ms/epoch - 24ms/step\n",
      "Epoch 61/100\n",
      "3/3 - 0s - loss: 0.0015 - acc: 0.0112 - val_loss: 0.0077 - val_acc: 0.0233 - 80ms/epoch - 27ms/step\n",
      "Epoch 62/100\n",
      "3/3 - 0s - loss: 0.0015 - acc: 0.0112 - val_loss: 0.0076 - val_acc: 0.0233 - 80ms/epoch - 27ms/step\n",
      "Epoch 63/100\n",
      "3/3 - 0s - loss: 0.0015 - acc: 0.0112 - val_loss: 0.0076 - val_acc: 0.0233 - 88ms/epoch - 29ms/step\n",
      "Epoch 64/100\n",
      "3/3 - 0s - loss: 0.0015 - acc: 0.0112 - val_loss: 0.0075 - val_acc: 0.0233 - 80ms/epoch - 27ms/step\n",
      "Epoch 65/100\n",
      "3/3 - 0s - loss: 0.0015 - acc: 0.0112 - val_loss: 0.0073 - val_acc: 0.0233 - 88ms/epoch - 29ms/step\n",
      "Epoch 66/100\n",
      "3/3 - 0s - loss: 0.0015 - acc: 0.0112 - val_loss: 0.0074 - val_acc: 0.0233 - 88ms/epoch - 29ms/step\n",
      "Epoch 67/100\n",
      "3/3 - 0s - loss: 0.0015 - acc: 0.0112 - val_loss: 0.0071 - val_acc: 0.0233 - 80ms/epoch - 27ms/step\n",
      "Epoch 68/100\n",
      "3/3 - 0s - loss: 0.0014 - acc: 0.0112 - val_loss: 0.0073 - val_acc: 0.0233 - 80ms/epoch - 27ms/step\n",
      "Epoch 69/100\n",
      "3/3 - 0s - loss: 0.0015 - acc: 0.0112 - val_loss: 0.0075 - val_acc: 0.0233 - 72ms/epoch - 24ms/step\n",
      "Epoch 70/100\n",
      "3/3 - 0s - loss: 0.0014 - acc: 0.0112 - val_loss: 0.0069 - val_acc: 0.0233 - 80ms/epoch - 27ms/step\n",
      "Epoch 71/100\n",
      "3/3 - 0s - loss: 0.0015 - acc: 0.0112 - val_loss: 0.0068 - val_acc: 0.0233 - 80ms/epoch - 27ms/step\n",
      "Epoch 72/100\n",
      "3/3 - 0s - loss: 0.0014 - acc: 0.0112 - val_loss: 0.0071 - val_acc: 0.0233 - 80ms/epoch - 27ms/step\n",
      "Epoch 73/100\n",
      "3/3 - 0s - loss: 0.0014 - acc: 0.0112 - val_loss: 0.0076 - val_acc: 0.0233 - 81ms/epoch - 27ms/step\n"
     ]
    },
    {
     "name": "stdout",
     "output_type": "stream",
     "text": [
      "Epoch 74/100\n",
      "3/3 - 0s - loss: 0.0014 - acc: 0.0112 - val_loss: 0.0073 - val_acc: 0.0233 - 80ms/epoch - 27ms/step\n",
      "Epoch 75/100\n",
      "3/3 - 0s - loss: 0.0014 - acc: 0.0112 - val_loss: 0.0068 - val_acc: 0.0233 - 80ms/epoch - 27ms/step\n",
      "Epoch 76/100\n",
      "3/3 - 0s - loss: 0.0014 - acc: 0.0112 - val_loss: 0.0066 - val_acc: 0.0233 - 72ms/epoch - 24ms/step\n",
      "Epoch 77/100\n",
      "3/3 - 0s - loss: 0.0014 - acc: 0.0112 - val_loss: 0.0069 - val_acc: 0.0233 - 88ms/epoch - 29ms/step\n",
      "Epoch 78/100\n",
      "3/3 - 0s - loss: 0.0014 - acc: 0.0112 - val_loss: 0.0072 - val_acc: 0.0233 - 80ms/epoch - 27ms/step\n",
      "Epoch 79/100\n",
      "3/3 - 0s - loss: 0.0014 - acc: 0.0112 - val_loss: 0.0069 - val_acc: 0.0233 - 72ms/epoch - 24ms/step\n",
      "Epoch 80/100\n",
      "3/3 - 0s - loss: 0.0013 - acc: 0.0112 - val_loss: 0.0065 - val_acc: 0.0233 - 80ms/epoch - 27ms/step\n",
      "Epoch 81/100\n",
      "3/3 - 0s - loss: 0.0013 - acc: 0.0112 - val_loss: 0.0066 - val_acc: 0.0233 - 80ms/epoch - 27ms/step\n",
      "Epoch 82/100\n",
      "3/3 - 0s - loss: 0.0013 - acc: 0.0112 - val_loss: 0.0068 - val_acc: 0.0233 - 72ms/epoch - 24ms/step\n",
      "Epoch 83/100\n",
      "3/3 - 0s - loss: 0.0013 - acc: 0.0112 - val_loss: 0.0068 - val_acc: 0.0233 - 81ms/epoch - 27ms/step\n",
      "Epoch 84/100\n",
      "3/3 - 0s - loss: 0.0013 - acc: 0.0112 - val_loss: 0.0067 - val_acc: 0.0233 - 80ms/epoch - 27ms/step\n",
      "Epoch 85/100\n",
      "3/3 - 0s - loss: 0.0013 - acc: 0.0112 - val_loss: 0.0063 - val_acc: 0.0233 - 72ms/epoch - 24ms/step\n",
      "Epoch 86/100\n",
      "3/3 - 0s - loss: 0.0013 - acc: 0.0112 - val_loss: 0.0066 - val_acc: 0.0233 - 80ms/epoch - 27ms/step\n",
      "Epoch 87/100\n",
      "3/3 - 0s - loss: 0.0013 - acc: 0.0112 - val_loss: 0.0068 - val_acc: 0.0233 - 80ms/epoch - 27ms/step\n",
      "Epoch 88/100\n",
      "3/3 - 0s - loss: 0.0013 - acc: 0.0112 - val_loss: 0.0064 - val_acc: 0.0233 - 80ms/epoch - 27ms/step\n",
      "Epoch 89/100\n",
      "3/3 - 0s - loss: 0.0013 - acc: 0.0112 - val_loss: 0.0063 - val_acc: 0.0233 - 72ms/epoch - 24ms/step\n",
      "Epoch 90/100\n",
      "3/3 - 0s - loss: 0.0013 - acc: 0.0112 - val_loss: 0.0066 - val_acc: 0.0233 - 112ms/epoch - 37ms/step\n",
      "Epoch 91/100\n",
      "3/3 - 0s - loss: 0.0013 - acc: 0.0112 - val_loss: 0.0067 - val_acc: 0.0233 - 80ms/epoch - 27ms/step\n",
      "Epoch 92/100\n",
      "3/3 - 0s - loss: 0.0013 - acc: 0.0112 - val_loss: 0.0064 - val_acc: 0.0233 - 74ms/epoch - 25ms/step\n",
      "Epoch 93/100\n",
      "3/3 - 0s - loss: 0.0012 - acc: 0.0112 - val_loss: 0.0062 - val_acc: 0.0233 - 81ms/epoch - 27ms/step\n",
      "Epoch 94/100\n",
      "3/3 - 0s - loss: 0.0012 - acc: 0.0112 - val_loss: 0.0063 - val_acc: 0.0233 - 72ms/epoch - 24ms/step\n",
      "Epoch 95/100\n",
      "3/3 - 0s - loss: 0.0013 - acc: 0.0112 - val_loss: 0.0065 - val_acc: 0.0233 - 80ms/epoch - 27ms/step\n",
      "Epoch 96/100\n",
      "3/3 - 0s - loss: 0.0012 - acc: 0.0112 - val_loss: 0.0062 - val_acc: 0.0233 - 72ms/epoch - 24ms/step\n",
      "Epoch 97/100\n",
      "3/3 - 0s - loss: 0.0012 - acc: 0.0112 - val_loss: 0.0061 - val_acc: 0.0233 - 80ms/epoch - 27ms/step\n",
      "Epoch 98/100\n",
      "3/3 - 0s - loss: 0.0012 - acc: 0.0112 - val_loss: 0.0063 - val_acc: 0.0233 - 80ms/epoch - 27ms/step\n",
      "Epoch 99/100\n",
      "3/3 - 0s - loss: 0.0012 - acc: 0.0112 - val_loss: 0.0066 - val_acc: 0.0233 - 72ms/epoch - 24ms/step\n",
      "Epoch 100/100\n",
      "3/3 - 0s - loss: 0.0012 - acc: 0.0112 - val_loss: 0.0063 - val_acc: 0.0233 - 80ms/epoch - 27ms/step\n"
     ]
    },
    {
     "data": {
      "text/plain": [
       "<keras.callbacks.History at 0x23486fe1c10>"
      ]
     },
     "execution_count": 23,
     "metadata": {},
     "output_type": "execute_result"
    }
   ],
   "source": [
    "model.fit(train_X,train_y,validation_data=(test_X,test_y), verbose=2,epochs=100)"
   ]
  },
  {
   "cell_type": "code",
   "execution_count": 24,
   "id": "e4f25cb5",
   "metadata": {},
   "outputs": [
    {
     "name": "stdout",
     "output_type": "stream",
     "text": [
      "3/3 [==============================] - 0s 6ms/step\n",
      "2/2 [==============================] - 0s 0s/step\n"
     ]
    }
   ],
   "source": [
    "trainPredict = model.predict(train_X)\n",
    "testPredict = model.predict(test_X)"
   ]
  },
  {
   "cell_type": "code",
   "execution_count": 25,
   "id": "2c9908db",
   "metadata": {},
   "outputs": [],
   "source": [
    "trainPredict = scaler.inverse_transform(trainPredict)\n",
    "trainY_inverse = scaler.inverse_transform([train_y])"
   ]
  },
  {
   "cell_type": "code",
   "execution_count": 26,
   "id": "76ed7128",
   "metadata": {},
   "outputs": [],
   "source": [
    "testPredict = scaler.inverse_transform(testPredict)\n",
    "testY_inverse = scaler.inverse_transform([test_y])"
   ]
  },
  {
   "cell_type": "code",
   "execution_count": 34,
   "id": "7b45e150",
   "metadata": {},
   "outputs": [
    {
     "name": "stdout",
     "output_type": "stream",
     "text": [
      "Train Score : 17.950188383087372 RMSE\n"
     ]
    }
   ],
   "source": [
    "trainScore = math.sqrt(mean_squared_error(trainY_inverse[0],trainPredict[:,0]))\n",
    "print(f'Train Score : {trainScore} RMSE')"
   ]
  },
  {
   "cell_type": "code",
   "execution_count": 35,
   "id": "8d69330e",
   "metadata": {},
   "outputs": [
    {
     "name": "stdout",
     "output_type": "stream",
     "text": [
      "Test Score : 41.230969682604325 RMSE\n"
     ]
    }
   ],
   "source": [
    "testScore = math.sqrt(mean_squared_error(testY_inverse[0], testPredict[:,0]))\n",
    "print(f'Test Score : {testScore} RMSE')"
   ]
  },
  {
   "cell_type": "code",
   "execution_count": 42,
   "id": "fb6082f5",
   "metadata": {},
   "outputs": [],
   "source": [
    "trainPredictPlot = np.empty_like(dataframe)\n",
    "trainPredictPlot[:,:] = np.nan\n",
    "trainPredictPlot[width : len(trainPredict)+width , :] = trainPredict"
   ]
  },
  {
   "cell_type": "code",
   "execution_count": 43,
   "id": "3b99b70d",
   "metadata": {},
   "outputs": [],
   "source": [
    "testPredictPlot = np.empty_like(dataframe)\n",
    "testPredictPlot[:, :] = np.nan\n",
    "testPredictPlot[len(trainPredict)+(width*2)+1:len(dataframe)-1, :] = testPredict"
   ]
  },
  {
   "cell_type": "code",
   "execution_count": 44,
   "id": "e066f034",
   "metadata": {},
   "outputs": [
    {
     "data": {
      "image/png": "[encoded data removed]",
      "text/plain": [
       "<Figure size 640x480 with 1 Axes>"
      ]
     },
     "metadata": {},
     "output_type": "display_data"
    }
   ],
   "source": [
    "plt.plot(scaler.inverse_transform(dataframe))\n",
    "plt.plot(trainPredictPlot)\n",
    "plt.plot(testPredictPlot)\n",
    "plt.show()"
   ]
  },
  {
   "cell_type": "code",
   "execution_count": null,
   "id": "0952ecfb",
   "metadata": {},
   "outputs": [],
   "source": []
  }
 ],
 "metadata": {
  "kernelspec": {
   "display_name": "Python 3 (ipykernel)",
   "language": "python",
   "name": "python3"
  },
  "language_info": {
   "codemirror_mode": {
    "name": "ipython",
    "version": 3
   },
   "file_extension": ".py",
   "mimetype": "text/x-python",
   "name": "python",
   "nbconvert_exporter": "python",
   "pygments_lexer": "ipython3",
   "version": "3.9.13"
  }
 },
 "nbformat": 4,
 "nbformat_minor": 5
}
